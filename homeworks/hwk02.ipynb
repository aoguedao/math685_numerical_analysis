{
 "cells": [
  {
   "cell_type": "markdown",
   "source": [
    "[![Open In Colab](https://colab.research.google.com/assets/colab-badge.svg)](https://colab.research.google.com/github/aoguedao/math685_numerical_analysis/blob/main/homeworks/hwk02.ipynb)"
   ],
   "metadata": {}
  },
  {
   "cell_type": "markdown",
   "source": [
    "# MATH685 - Homework #02\n",
    "\n",
    "_Alonso Ogueda_"
   ],
   "metadata": {}
  },
  {
   "cell_type": "code",
   "execution_count": 1,
   "source": [
    "import numpy as np"
   ],
   "outputs": [],
   "metadata": {}
  },
  {
   "cell_type": "markdown",
   "source": [
    "## Exercise 3"
   ],
   "metadata": {}
  },
  {
   "cell_type": "code",
   "execution_count": 25,
   "source": [
    "x = 0.0001\n",
    "chopping = 6"
   ],
   "outputs": [],
   "metadata": {}
  },
  {
   "cell_type": "code",
   "execution_count": 26,
   "source": [
    "def f3(x, chopping=None):\n",
    "    if chopping is None:\n",
    "        return (5 ** x - 3 ** x) / x\n",
    "    else:\n",
    "        x = float(np.format_float_positional(x, precision=chopping))\n",
    "        aux1 = float(np.format_float_positional(5 ** x, precision=chopping))\n",
    "        aux2 = float(np.format_float_positional(3 ** x, precision=chopping))\n",
    "        numerator = float(np.format_float_positional(aux1 - aux2, precision=chopping))\n",
    "        output = float(np.format_float_positional(numerator / x, precision=chopping))\n",
    "        return output"
   ],
   "outputs": [],
   "metadata": {}
  },
  {
   "cell_type": "code",
   "execution_count": 27,
   "source": [
    "# six-digit decimal arithmetic with chopping\n",
    "f3(0.0001, chopping=6)"
   ],
   "outputs": [
    {
     "output_type": "execute_result",
     "data": {
      "text/plain": [
       "0.51"
      ]
     },
     "metadata": {},
     "execution_count": 27
    }
   ],
   "metadata": {}
  },
  {
   "cell_type": "code",
   "execution_count": 28,
   "source": [
    "# double precision\n",
    "f3(0.0001)"
   ],
   "outputs": [
    {
     "output_type": "execute_result",
     "data": {
      "text/plain": [
       "0.5108947955756449"
      ]
     },
     "metadata": {},
     "execution_count": 28
    }
   ],
   "metadata": {}
  },
  {
   "cell_type": "code",
   "execution_count": 29,
   "source": [
    "# limit x to 0\n",
    "np.log(5) - np.log(3)"
   ],
   "outputs": [
    {
     "output_type": "execute_result",
     "data": {
      "text/plain": [
       "0.5108256237659905"
      ]
     },
     "metadata": {},
     "execution_count": 29
    }
   ],
   "metadata": {}
  },
  {
   "cell_type": "code",
   "execution_count": 30,
   "source": [
    "def f4(first, n):\n",
    "    print(f\"I_1 = {first}\")\n",
    "    i_n = first\n",
    "    for i in range(2, n + 1):\n",
    "        i_n = 1 - i * i_n\n",
    "        print(f\"I_{i} = {i_n}\")"
   ],
   "outputs": [],
   "metadata": {}
  },
  {
   "cell_type": "code",
   "execution_count": 31,
   "source": [
    "f4(first=0.3678795, n=12)"
   ],
   "outputs": [
    {
     "output_type": "stream",
     "name": "stdout",
     "text": [
      "I_1 = 0.3678795\n",
      "I_2 = 0.26424099999999995\n",
      "I_3 = 0.20727700000000016\n",
      "I_4 = 0.17089199999999938\n",
      "I_5 = 0.1455400000000031\n",
      "I_6 = 0.12675999999998133\n",
      "I_7 = 0.11268000000013068\n",
      "I_8 = 0.0985599999989546\n",
      "I_9 = 0.11296000000940865\n",
      "I_10 = -0.12960000009408645\n",
      "I_11 = 2.425600001034951\n",
      "I_12 = -28.107200012419412\n"
     ]
    }
   ],
   "metadata": {}
  },
  {
   "cell_type": "code",
   "execution_count": 32,
   "source": [
    "f4(first=1/np.exp(1), n=12)"
   ],
   "outputs": [
    {
     "output_type": "stream",
     "name": "stdout",
     "text": [
      "I_1 = 0.36787944117144233\n",
      "I_2 = 0.26424111765711533\n",
      "I_3 = 0.207276647028654\n",
      "I_4 = 0.17089341188538398\n",
      "I_5 = 0.14553294057308008\n",
      "I_6 = 0.1268023565615195\n",
      "I_7 = 0.11238350406936348\n",
      "I_8 = 0.10093196744509214\n",
      "I_9 = 0.09161229299417073\n",
      "I_10 = 0.0838770700582927\n",
      "I_11 = 0.07735222935878028\n",
      "I_12 = 0.07177324769463667\n"
     ]
    }
   ],
   "metadata": {}
  },
  {
   "cell_type": "code",
   "execution_count": 33,
   "source": [
    "def reverse_f4(last, last_index, n):\n",
    "    print(f\"I_{last_index} = {last}\")\n",
    "    i_n = last\n",
    "    for i in range(last_index - 1, n - 1, -1):\n",
    "        i_n = (1 - i_n) / i\n",
    "        print(f\"I_{i} = {i_n}\")"
   ],
   "outputs": [],
   "metadata": {}
  },
  {
   "cell_type": "code",
   "execution_count": 34,
   "source": [
    "reverse_f4(last=0.04554488, last_index=20, n=12)"
   ],
   "outputs": [
    {
     "output_type": "stream",
     "name": "stdout",
     "text": [
      "I_20 = 0.04554488\n",
      "I_19 = 0.05023448\n",
      "I_18 = 0.05276475111111111\n",
      "I_17 = 0.05571972052287582\n",
      "I_16 = 0.059017517467320264\n",
      "I_15 = 0.06273216550217865\n",
      "I_14 = 0.0669477024641301\n",
      "I_13 = 0.07177325365660538\n",
      "I_12 = 0.07735222886194955\n"
     ]
    }
   ],
   "metadata": {}
  },
  {
   "cell_type": "markdown",
   "source": [
    "## Exercise 5"
   ],
   "metadata": {}
  },
  {
   "cell_type": "code",
   "execution_count": 2,
   "source": [
    "def bisection_method(f, interval, tol=1e-3):\n",
    "    \"\"\"Bisection Method Solver\n",
    "\n",
    "    To find a solution to f(x) = 0 given the continuous function\n",
    "    f on the interval [a,b], where f(a) and f(b) have opposite signs.\n",
    "\n",
    "    Parameters\n",
    "    ----------\n",
    "    f : function\n",
    "        \n",
    "    interval : tuple\n",
    "        Min and max values of interval (a, b)\n",
    "    tol : float, optional\n",
    "        Tolerance, by default 1e-3\n",
    "    \"\"\"\n",
    "\n",
    "    a, b = interval\n",
    "    fa = f(a)\n",
    "    fb = f(b)\n",
    "    if np.sign(fa) * np.sign(fb) >= 0:\n",
    "        raise ValueError(\"f(a)f(b) should be negative.\")\n",
    "    \n",
    "    i = 1\n",
    "    while (b - a) /2 > tol:\n",
    "        c = (a + b) / 2\n",
    "        fc = f(c)\n",
    "        if fc == 0:\n",
    "            return c\n",
    "        elif np.sign(fc) * np.sign(fa) < 0:\n",
    "            b = c\n",
    "            fb = fc\n",
    "        else:\n",
    "            a = c\n",
    "            fa = fc\n",
    "        output = (a + b) / 2\n",
    "        print(f\"Iteration {i:>3} - {output:.10f} - Error: {(b -a) / 2:e}\")\n",
    "        i += 1\n",
    "    return output"
   ],
   "outputs": [],
   "metadata": {}
  },
  {
   "cell_type": "code",
   "execution_count": 3,
   "source": [
    "f5 = lambda x: x ** 5 - 5\n",
    "bisection_method(f5, interval=(1, 2), tol=1e-8)"
   ],
   "outputs": [
    {
     "output_type": "stream",
     "name": "stdout",
     "text": [
      "Iteration   1 - 1.2500000000 - Error: 2.500000e-01\n",
      "Iteration   2 - 1.3750000000 - Error: 1.250000e-01\n",
      "Iteration   3 - 1.4375000000 - Error: 6.250000e-02\n",
      "Iteration   4 - 1.4062500000 - Error: 3.125000e-02\n",
      "Iteration   5 - 1.3906250000 - Error: 1.562500e-02\n",
      "Iteration   6 - 1.3828125000 - Error: 7.812500e-03\n",
      "Iteration   7 - 1.3789062500 - Error: 3.906250e-03\n",
      "Iteration   8 - 1.3808593750 - Error: 1.953125e-03\n",
      "Iteration   9 - 1.3798828125 - Error: 9.765625e-04\n",
      "Iteration  10 - 1.3793945312 - Error: 4.882812e-04\n",
      "Iteration  11 - 1.3796386719 - Error: 2.441406e-04\n",
      "Iteration  12 - 1.3797607422 - Error: 1.220703e-04\n",
      "Iteration  13 - 1.3796997070 - Error: 6.103516e-05\n",
      "Iteration  14 - 1.3797302246 - Error: 3.051758e-05\n",
      "Iteration  15 - 1.3797149658 - Error: 1.525879e-05\n",
      "Iteration  16 - 1.3797225952 - Error: 7.629395e-06\n",
      "Iteration  17 - 1.3797264099 - Error: 3.814697e-06\n",
      "Iteration  18 - 1.3797283173 - Error: 1.907349e-06\n",
      "Iteration  19 - 1.3797292709 - Error: 9.536743e-07\n",
      "Iteration  20 - 1.3797297478 - Error: 4.768372e-07\n",
      "Iteration  21 - 1.3797295094 - Error: 2.384186e-07\n",
      "Iteration  22 - 1.3797296286 - Error: 1.192093e-07\n",
      "Iteration  23 - 1.3797296882 - Error: 5.960464e-08\n",
      "Iteration  24 - 1.3797296584 - Error: 2.980232e-08\n",
      "Iteration  25 - 1.3797296733 - Error: 1.490116e-08\n",
      "Iteration  26 - 1.3797296658 - Error: 7.450581e-09\n"
     ]
    },
    {
     "output_type": "execute_result",
     "data": {
      "text/plain": [
       "1.3797296658158302"
      ]
     },
     "metadata": {},
     "execution_count": 3
    }
   ],
   "metadata": {}
  },
  {
   "cell_type": "code",
   "execution_count": 4,
   "source": [
    "5 ** (1 / 5)"
   ],
   "outputs": [
    {
     "output_type": "execute_result",
     "data": {
      "text/plain": [
       "1.379729661461215"
      ]
     },
     "metadata": {},
     "execution_count": 4
    }
   ],
   "metadata": {}
  },
  {
   "cell_type": "code",
   "execution_count": 9,
   "source": [
    "def bisection_method(f, x0, tol=1e-3):\n",
    "    \"\"\"Bisection Method Solver\n",
    "\n",
    "    To find a solution to f(x) = 0 given the continuous function\n",
    "    f on the interval [a,b], where f(a) and f(b) have opposite signs.\n",
    "\n",
    "    Parameters\n",
    "    ----------\n",
    "    f : function\n",
    "        \n",
    "    interval : tuple\n",
    "        Min and max values of interval (a, b)\n",
    "    tol : float, optional\n",
    "        Tolerance, by default 1e-3\n",
    "    \"\"\"\n",
    "    # x = x0    \n",
    "    i = 1\n",
    "    converge = False\n",
    "    while not converge:\n",
    "        x = f(x0)\n",
    "        abs_error = np.abs(x - x0)\n",
    "        print(f\"Iteration {i:>3} - {x:>.10f} - Error: {abs_error:e}\")\n",
    "        if abs_error < tol:\n",
    "            converge = True\n",
    "        else:\n",
    "            i += 1\n",
    "            x0 = x\n",
    "    return x"
   ],
   "outputs": [],
   "metadata": {}
  },
  {
   "cell_type": "code",
   "execution_count": 10,
   "source": [
    "f5_fixed_point = lambda x: (4 * x) / 5 + x ** (-4)\n",
    "bisection_method(f5_fixed_point, x0=0.1, tol=1e-8)"
   ],
   "outputs": [
    {
     "output_type": "stream",
     "name": "stdout",
     "text": [
      "Iteration   1 - 10000.0800000000 - Error: 9.999980e+03\n",
      "Iteration   2 - 8000.0640000000 - Error: 2.000016e+03\n",
      "Iteration   3 - 6400.0512000000 - Error: 1.600013e+03\n",
      "Iteration   4 - 5120.0409600000 - Error: 1.280010e+03\n",
      "Iteration   5 - 4096.0327680000 - Error: 1.024008e+03\n",
      "Iteration   6 - 3276.8262144000 - Error: 8.192066e+02\n",
      "Iteration   7 - 2621.4609715200 - Error: 6.553652e+02\n",
      "Iteration   8 - 2097.1687772160 - Error: 5.242922e+02\n",
      "Iteration   9 - 1677.7350217728 - Error: 4.194338e+02\n",
      "Iteration  10 - 1342.1880174182 - Error: 3.355470e+02\n",
      "Iteration  11 - 1073.7504139346 - Error: 2.684376e+02\n",
      "Iteration  12 - 859.0003311477 - Error: 2.147501e+02\n",
      "Iteration  13 - 687.2002649181 - Error: 1.718001e+02\n",
      "Iteration  14 - 549.7602119345 - Error: 1.374401e+02\n",
      "Iteration  15 - 439.8081695476 - Error: 1.099520e+02\n",
      "Iteration  16 - 351.8465356381 - Error: 8.796163e+01\n",
      "Iteration  17 - 281.4772285106 - Error: 7.036931e+01\n",
      "Iteration  18 - 225.1817828086 - Error: 5.629545e+01\n",
      "Iteration  19 - 180.1454262473 - Error: 4.503636e+01\n",
      "Iteration  20 - 144.1163409988 - Error: 3.602909e+01\n",
      "Iteration  21 - 115.2930728013 - Error: 2.882327e+01\n",
      "Iteration  22 - 92.2344582467 - Error: 2.305861e+01\n",
      "Iteration  23 - 73.7875666112 - Error: 1.844689e+01\n",
      "Iteration  24 - 59.0300533227 - Error: 1.475751e+01\n",
      "Iteration  25 - 47.2240427405 - Error: 1.180601e+01\n",
      "Iteration  26 - 37.7792343935 - Error: 9.444808e+00\n",
      "Iteration  27 - 30.2233880057 - Error: 7.555846e+00\n",
      "Iteration  28 - 24.1787116030 - Error: 6.044676e+00\n",
      "Iteration  29 - 19.3429722084 - Error: 4.835739e+00\n",
      "Iteration  30 - 15.4743849101 - Error: 3.868587e+00\n",
      "Iteration  31 - 12.3795253681 - Error: 3.094860e+00\n",
      "Iteration  32 - 9.9036628724 - Error: 2.475862e+00\n",
      "Iteration  33 - 7.9230342460 - Error: 1.980629e+00\n",
      "Iteration  34 - 6.3386811631 - Error: 1.584353e+00\n",
      "Iteration  35 - 5.0715643778 - Error: 1.267117e+00\n",
      "Iteration  36 - 4.0587630860 - Error: 1.012801e+00\n",
      "Iteration  37 - 3.2506953644 - Error: 8.080677e-01\n",
      "Iteration  38 - 2.6095118962 - Error: 6.411835e-01\n",
      "Iteration  39 - 2.1091751830 - Error: 5.003367e-01\n",
      "Iteration  40 - 1.7378701570 - Error: 3.713050e-01\n",
      "Iteration  41 - 1.4999264497 - Error: 2.379437e-01\n",
      "Iteration  42 - 1.3975107712 - Error: 1.024157e-01\n",
      "Iteration  43 - 1.3801764139 - Error: 1.733436e-02\n",
      "Iteration  44 - 1.3797299506 - Error: 4.464633e-04\n",
      "Iteration  45 - 1.3797296615 - Error: 2.891269e-07\n",
      "Iteration  46 - 1.3797296615 - Error: 1.212364e-13\n"
     ]
    },
    {
     "output_type": "execute_result",
     "data": {
      "text/plain": [
       "1.379729661461215"
      ]
     },
     "metadata": {},
     "execution_count": 10
    }
   ],
   "metadata": {}
  },
  {
   "cell_type": "code",
   "execution_count": null,
   "source": [],
   "outputs": [],
   "metadata": {}
  }
 ],
 "metadata": {
  "kernelspec": {
   "name": "python3",
   "display_name": "Python 3.9.6 64-bit ('agoo': conda)"
  },
  "language_info": {
   "codemirror_mode": {
    "name": "ipython",
    "version": 3
   },
   "file_extension": ".py",
   "mimetype": "text/x-python",
   "name": "python",
   "nbconvert_exporter": "python",
   "pygments_lexer": "ipython3",
   "version": "3.9.6"
  },
  "interpreter": {
   "hash": "cfeeb746491fd343b146bd18dc63d8ffb577ecc9094711f23070d786fb50bbe5"
  }
 },
 "nbformat": 4,
 "nbformat_minor": 5
}