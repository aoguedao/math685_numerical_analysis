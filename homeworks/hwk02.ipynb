{
 "cells": [
  {
   "cell_type": "markdown",
   "id": "94e077eb",
   "metadata": {},
   "source": [
    "[![Open In Colab](https://colab.research.google.com/assets/colab-badge.svg)](https://colab.research.google.com/github/aoguedao/math685_numerical_analysis/blob/main/homeworks/hwk02.ipynb)"
   ]
  },
  {
   "cell_type": "markdown",
   "id": "bc1a249f",
   "metadata": {},
   "source": [
    "# MATH685 - Homework #02\n",
    "\n",
    "_Alonso Ogueda_"
   ]
  },
  {
   "cell_type": "code",
   "execution_count": 1,
   "id": "bc13a725",
   "metadata": {},
   "outputs": [],
   "source": [
    "import numpy as np\n",
    "import pandas as pd"
   ]
  },
  {
   "cell_type": "markdown",
   "id": "faf03ba4",
   "metadata": {
    "tags": []
   },
   "source": [
    "## Exercise 3"
   ]
  },
  {
   "cell_type": "code",
   "execution_count": 2,
   "id": "649bed31",
   "metadata": {},
   "outputs": [
    {
     "data": {
      "text/plain": [
       "0.5108256237659905"
      ]
     },
     "execution_count": 2,
     "metadata": {},
     "output_type": "execute_result"
    }
   ],
   "source": [
    "# limit x to 0\n",
    "real = np.log(5) - np.log(3)\n",
    "real"
   ]
  },
  {
   "cell_type": "code",
   "execution_count": 3,
   "id": "81185e30",
   "metadata": {},
   "outputs": [
    {
     "data": {
      "text/plain": [
       "0.17456911338273098"
      ]
     },
     "execution_count": 3,
     "metadata": {},
     "output_type": "execute_result"
    }
   ],
   "source": [
    "np.abs((real - 0.6) / real)"
   ]
  },
  {
   "cell_type": "code",
   "execution_count": 4,
   "id": "21f1532a",
   "metadata": {},
   "outputs": [
    {
     "data": {
      "text/plain": [
       "0.07654740564056413"
      ]
     },
     "execution_count": 4,
     "metadata": {},
     "output_type": "execute_result"
    }
   ],
   "source": [
    "np.abs((real - 0.549928) / real)"
   ]
  },
  {
   "cell_type": "markdown",
   "id": "56a5ab02",
   "metadata": {
    "tags": []
   },
   "source": [
    "## Exercise 4"
   ]
  },
  {
   "cell_type": "code",
   "execution_count": 5,
   "id": "426d689a",
   "metadata": {},
   "outputs": [],
   "source": [
    "def f4(first, n):\n",
    "    \"\"\"Iterative integral evaluation\n",
    "\n",
    "    Parameters\n",
    "    ----------\n",
    "    first : float\n",
    "        First number of the sequence\n",
    "    n : int\n",
    "        Number of iterations\n",
    "\n",
    "    Returns\n",
    "    -------\n",
    "    pd.Series\n",
    "    \"\"\"\n",
    "    s = pd.Series(dtype=\"float64\")\n",
    "    s.loc[1] = first\n",
    "    print(f\"I_1 = {first}\")\n",
    "    i_n = first\n",
    "    for i in range(2, n + 1):\n",
    "        i_n = 1 - i * i_n\n",
    "        s.loc[i] = i_n\n",
    "        print(f\"I_{i} = {i_n}\")\n",
    "    return s"
   ]
  },
  {
   "cell_type": "code",
   "execution_count": 6,
   "id": "80ec21b6",
   "metadata": {},
   "outputs": [
    {
     "name": "stdout",
     "output_type": "stream",
     "text": [
      "I_1 = 0.3678795\n",
      "I_2 = 0.26424099999999995\n",
      "I_3 = 0.20727700000000016\n",
      "I_4 = 0.17089199999999938\n",
      "I_5 = 0.1455400000000031\n",
      "I_6 = 0.12675999999998133\n",
      "I_7 = 0.11268000000013068\n",
      "I_8 = 0.0985599999989546\n",
      "I_9 = 0.11296000000940865\n",
      "I_10 = -0.12960000009408645\n",
      "I_11 = 2.425600001034951\n",
      "I_12 = -28.107200012419412\n"
     ]
    }
   ],
   "source": [
    "s4 = f4(first=0.3678795, n=12)"
   ]
  },
  {
   "cell_type": "code",
   "execution_count": 7,
   "id": "0a1658f1",
   "metadata": {},
   "outputs": [
    {
     "name": "stdout",
     "output_type": "stream",
     "text": [
      "\\begin{table}\n",
      "\\centering\n",
      "\\caption{Recursive integration approximation of $I_{12}$ starting at $I_1 = 0.367880$.}\n",
      "\\label{tab:q04b_approx}\n",
      "\\begin{tabular}{lr}\n",
      "\\toprule\n",
      "{} &          0 \\\\\n",
      "\\midrule\n",
      "1  &   0.367880 \\\\\n",
      "2  &   0.264241 \\\\\n",
      "3  &   0.207277 \\\\\n",
      "4  &   0.170892 \\\\\n",
      "5  &   0.145540 \\\\\n",
      "6  &   0.126760 \\\\\n",
      "7  &   0.112680 \\\\\n",
      "8  &   0.098560 \\\\\n",
      "9  &   0.112960 \\\\\n",
      "10 &  -0.129600 \\\\\n",
      "11 &   2.425600 \\\\\n",
      "12 & -28.107200 \\\\\n",
      "\\bottomrule\n",
      "\\end{tabular}\n",
      "\\end{table}\n",
      "\n"
     ]
    }
   ],
   "source": [
    "print(\n",
    "    s4.to_latex(\n",
    "        label=\"tab:q04b_approx\",\n",
    "        caption=\"Recursive integration approximation of $I_{12}$ starting at $I_1 = 0.367880$.\"\n",
    "    )\n",
    ")"
   ]
  },
  {
   "cell_type": "code",
   "execution_count": 8,
   "id": "70c94582",
   "metadata": {},
   "outputs": [],
   "source": [
    "def reverse_f4(last, last_index, n):\n",
    "    \"\"\"Reverse iterative integral evaluation\n",
    "\n",
    "    Parameters\n",
    "    ----------\n",
    "    last : float\n",
    "        Last element of the sequence\n",
    "    last_index : int\n",
    "        Index of the last element\n",
    "    n : int\n",
    "        Index we want to evaluate\n",
    "\n",
    "    Returns\n",
    "    -------\n",
    "    pd.Series\n",
    "    \"\"\"\n",
    "    s = pd.Series(dtype=\"float64\")\n",
    "    s.loc[last_index] = last\n",
    "    print(f\"I_{last_index} = {last}\")\n",
    "    i_n = last\n",
    "    for i in range(last_index - 1, n - 1, -1):\n",
    "        i_n = (1 - i_n) / i\n",
    "        s.loc[i] = i_n\n",
    "        print(f\"I_{i} = {i_n}\")\n",
    "    return s"
   ]
  },
  {
   "cell_type": "code",
   "execution_count": 9,
   "id": "baf4de86",
   "metadata": {},
   "outputs": [
    {
     "name": "stdout",
     "output_type": "stream",
     "text": [
      "I_20 = 0.04554488\n",
      "I_19 = 0.05023448\n",
      "I_18 = 0.05276475111111111\n",
      "I_17 = 0.05571972052287582\n",
      "I_16 = 0.059017517467320264\n",
      "I_15 = 0.06273216550217865\n",
      "I_14 = 0.0669477024641301\n",
      "I_13 = 0.07177325365660538\n",
      "I_12 = 0.07735222886194955\n"
     ]
    }
   ],
   "source": [
    "s4c = reverse_f4(last=0.04554488, last_index=20, n=12)"
   ]
  },
  {
   "cell_type": "code",
   "execution_count": 10,
   "id": "598d115e",
   "metadata": {},
   "outputs": [
    {
     "name": "stdout",
     "output_type": "stream",
     "text": [
      "\\begin{table}\n",
      "\\centering\n",
      "\\caption{Reverse recursive integration approximation of $I_{12}$ starting at $I_{20} = 0.04554488$}\n",
      "\\label{tab:q04c_approx}\n",
      "\\begin{tabular}{lr}\n",
      "\\toprule\n",
      "{} &         0 \\\\\n",
      "\\midrule\n",
      "20 &  0.045545 \\\\\n",
      "19 &  0.050234 \\\\\n",
      "18 &  0.052765 \\\\\n",
      "17 &  0.055720 \\\\\n",
      "16 &  0.059018 \\\\\n",
      "15 &  0.062732 \\\\\n",
      "14 &  0.066948 \\\\\n",
      "13 &  0.071773 \\\\\n",
      "12 &  0.077352 \\\\\n",
      "\\bottomrule\n",
      "\\end{tabular}\n",
      "\\end{table}\n",
      "\n"
     ]
    }
   ],
   "source": [
    "print(\n",
    "    s4c.to_latex(\n",
    "        label=\"tab:q04c_approx\",\n",
    "        caption=\"Reverse recursive integration approximation of $I_{12}$ starting at $I_{20} = 0.04554488$\"\n",
    "    )\n",
    ")"
   ]
  },
  {
   "cell_type": "markdown",
   "id": "2b1995c5",
   "metadata": {},
   "source": [
    "## Exercise 5"
   ]
  },
  {
   "cell_type": "code",
   "execution_count": 11,
   "id": "1f338714",
   "metadata": {},
   "outputs": [],
   "source": [
    "def bisection_method(f, interval, tol=1e-3, iterations=1000):\n",
    "    \"\"\"Bisection Method Solver\n",
    "\n",
    "    To find a solution to f(x) = 0 given the continuous function\n",
    "    f on the interval [a,b], where f(a) and f(b) have opposite signs.\n",
    "\n",
    "    Parameters\n",
    "    ----------\n",
    "    f : function\n",
    "        \n",
    "    interval : tuple\n",
    "        Min and max values of interval (a, b)\n",
    "    tol : float, optional\n",
    "        Tolerance, by default 1e-3\n",
    "    iterations: int, optional\n",
    "        Number of maximum iterations, by default 1000\n",
    "    \"\"\"\n",
    "\n",
    "    a, b = interval\n",
    "    fa = f(a)\n",
    "    fb = f(b)\n",
    "    if np.sign(fa) * np.sign(fb) >= 0:\n",
    "        raise ValueError(\"f(a)f(b) should be negative.\")\n",
    "    df = pd.DataFrame(columns=[\"value\", \"error\"])\n",
    "    converge = False\n",
    "    i = 1\n",
    "    while (i <= iterations) and (not converge):\n",
    "        c = (a + b) / 2\n",
    "        error = (b - a) / 2\n",
    "        fc = f(c)\n",
    "        print(f\"Iteration {i:>3} - {c:.10f} - Error: {error:e}\")\n",
    "\n",
    "        if (error <= tol) or np.isclose(np.abs(fc), 0, rtol=1e-10, atol=1e-20):\n",
    "            converge = True\n",
    "        if fc == 0:\n",
    "            pass\n",
    "        elif np.sign(fc) * np.sign(fa) < 0:\n",
    "            b = c\n",
    "            fb = fc\n",
    "        else:\n",
    "            a = c\n",
    "            fa = fc\n",
    "        i += 1\n",
    "    return c"
   ]
  },
  {
   "cell_type": "code",
   "execution_count": 12,
   "id": "b2871970",
   "metadata": {},
   "outputs": [
    {
     "name": "stdout",
     "output_type": "stream",
     "text": [
      "Iteration   1 - 1.5000000000 - Error: 5.000000e-01\n",
      "Iteration   2 - 1.2500000000 - Error: 2.500000e-01\n",
      "Iteration   3 - 1.3750000000 - Error: 1.250000e-01\n",
      "Iteration   4 - 1.4375000000 - Error: 6.250000e-02\n",
      "Iteration   5 - 1.4062500000 - Error: 3.125000e-02\n",
      "Iteration   6 - 1.3906250000 - Error: 1.562500e-02\n",
      "Iteration   7 - 1.3828125000 - Error: 7.812500e-03\n",
      "Iteration   8 - 1.3789062500 - Error: 3.906250e-03\n",
      "Iteration   9 - 1.3808593750 - Error: 1.953125e-03\n",
      "Iteration  10 - 1.3798828125 - Error: 9.765625e-04\n",
      "Iteration  11 - 1.3793945312 - Error: 4.882812e-04\n",
      "Iteration  12 - 1.3796386719 - Error: 2.441406e-04\n",
      "Iteration  13 - 1.3797607422 - Error: 1.220703e-04\n",
      "Iteration  14 - 1.3796997070 - Error: 6.103516e-05\n",
      "Iteration  15 - 1.3797302246 - Error: 3.051758e-05\n",
      "Iteration  16 - 1.3797149658 - Error: 1.525879e-05\n",
      "Iteration  17 - 1.3797225952 - Error: 7.629395e-06\n",
      "Iteration  18 - 1.3797264099 - Error: 3.814697e-06\n",
      "Iteration  19 - 1.3797283173 - Error: 1.907349e-06\n",
      "Iteration  20 - 1.3797292709 - Error: 9.536743e-07\n",
      "Iteration  21 - 1.3797297478 - Error: 4.768372e-07\n",
      "Iteration  22 - 1.3797295094 - Error: 2.384186e-07\n",
      "Iteration  23 - 1.3797296286 - Error: 1.192093e-07\n",
      "Iteration  24 - 1.3797296882 - Error: 5.960464e-08\n",
      "Iteration  25 - 1.3797296584 - Error: 2.980232e-08\n",
      "Iteration  26 - 1.3797296733 - Error: 1.490116e-08\n",
      "Iteration  27 - 1.3797296658 - Error: 7.450581e-09\n"
     ]
    },
    {
     "data": {
      "text/plain": [
       "1.3797296658158302"
      ]
     },
     "execution_count": 12,
     "metadata": {},
     "output_type": "execute_result"
    }
   ],
   "source": [
    "f5 = lambda x: x ** 5 - 5\n",
    "bisection_method(f5, interval=(1, 2), tol=1e-8)"
   ]
  },
  {
   "cell_type": "code",
   "execution_count": 13,
   "id": "3bed2589",
   "metadata": {},
   "outputs": [],
   "source": [
    "def fixed_point_method(f, x0, tol=1e-3):\n",
    "    \"\"\"Fixed  Point Method Solver\n",
    "\n",
    "    To find a solution to x = f(x) given an initial approximation x0\n",
    "\n",
    "    Parameters\n",
    "    ----------\n",
    "    f : function\n",
    "        Function to evaluate\n",
    "    x0: float\n",
    "        First element\n",
    "    tol: float, optional\n",
    "        Tolerance, by default 1e-3\n",
    "    \"\"\"\n",
    "    i = 1\n",
    "    converge = False\n",
    "    while not converge:\n",
    "        x = f(x0)\n",
    "        abs_error = np.abs(x - x0)\n",
    "        print(f\"Iteration {i:>3} - {x:>.10f} - Error: {abs_error:e}\")\n",
    "        if abs_error < tol:\n",
    "            converge = True\n",
    "        else:\n",
    "            i += 1\n",
    "            x0 = x\n",
    "    return x"
   ]
  },
  {
   "cell_type": "code",
   "execution_count": 14,
   "id": "1adfab7c",
   "metadata": {},
   "outputs": [
    {
     "name": "stdout",
     "output_type": "stream",
     "text": [
      "Iteration   1 - 10000.0800000000 - Error: 9.999980e+03\n",
      "Iteration   2 - 8000.0640000000 - Error: 2.000016e+03\n",
      "Iteration   3 - 6400.0512000000 - Error: 1.600013e+03\n",
      "Iteration   4 - 5120.0409600000 - Error: 1.280010e+03\n",
      "Iteration   5 - 4096.0327680000 - Error: 1.024008e+03\n",
      "Iteration   6 - 3276.8262144000 - Error: 8.192066e+02\n",
      "Iteration   7 - 2621.4609715200 - Error: 6.553652e+02\n",
      "Iteration   8 - 2097.1687772160 - Error: 5.242922e+02\n",
      "Iteration   9 - 1677.7350217728 - Error: 4.194338e+02\n",
      "Iteration  10 - 1342.1880174182 - Error: 3.355470e+02\n",
      "Iteration  11 - 1073.7504139346 - Error: 2.684376e+02\n",
      "Iteration  12 - 859.0003311477 - Error: 2.147501e+02\n",
      "Iteration  13 - 687.2002649181 - Error: 1.718001e+02\n",
      "Iteration  14 - 549.7602119345 - Error: 1.374401e+02\n",
      "Iteration  15 - 439.8081695476 - Error: 1.099520e+02\n",
      "Iteration  16 - 351.8465356381 - Error: 8.796163e+01\n",
      "Iteration  17 - 281.4772285106 - Error: 7.036931e+01\n",
      "Iteration  18 - 225.1817828086 - Error: 5.629545e+01\n",
      "Iteration  19 - 180.1454262473 - Error: 4.503636e+01\n",
      "Iteration  20 - 144.1163409988 - Error: 3.602909e+01\n",
      "Iteration  21 - 115.2930728013 - Error: 2.882327e+01\n",
      "Iteration  22 - 92.2344582467 - Error: 2.305861e+01\n",
      "Iteration  23 - 73.7875666112 - Error: 1.844689e+01\n",
      "Iteration  24 - 59.0300533227 - Error: 1.475751e+01\n",
      "Iteration  25 - 47.2240427405 - Error: 1.180601e+01\n",
      "Iteration  26 - 37.7792343935 - Error: 9.444808e+00\n",
      "Iteration  27 - 30.2233880057 - Error: 7.555846e+00\n",
      "Iteration  28 - 24.1787116030 - Error: 6.044676e+00\n",
      "Iteration  29 - 19.3429722084 - Error: 4.835739e+00\n",
      "Iteration  30 - 15.4743849101 - Error: 3.868587e+00\n",
      "Iteration  31 - 12.3795253681 - Error: 3.094860e+00\n",
      "Iteration  32 - 9.9036628724 - Error: 2.475862e+00\n",
      "Iteration  33 - 7.9230342460 - Error: 1.980629e+00\n",
      "Iteration  34 - 6.3386811631 - Error: 1.584353e+00\n",
      "Iteration  35 - 5.0715643778 - Error: 1.267117e+00\n",
      "Iteration  36 - 4.0587630860 - Error: 1.012801e+00\n",
      "Iteration  37 - 3.2506953644 - Error: 8.080677e-01\n",
      "Iteration  38 - 2.6095118962 - Error: 6.411835e-01\n",
      "Iteration  39 - 2.1091751830 - Error: 5.003367e-01\n",
      "Iteration  40 - 1.7378701570 - Error: 3.713050e-01\n",
      "Iteration  41 - 1.4999264497 - Error: 2.379437e-01\n",
      "Iteration  42 - 1.3975107712 - Error: 1.024157e-01\n",
      "Iteration  43 - 1.3801764139 - Error: 1.733436e-02\n",
      "Iteration  44 - 1.3797299506 - Error: 4.464633e-04\n",
      "Iteration  45 - 1.3797296615 - Error: 2.891269e-07\n",
      "Iteration  46 - 1.3797296615 - Error: 1.212364e-13\n"
     ]
    }
   ],
   "source": [
    "f5_fixed_point = lambda x: (4 * x) / 5 + x ** (-4)\n",
    "f5_fpm = fixed_point_method(f5_fixed_point, x0=0.1, tol=1e-8)"
   ]
  },
  {
   "cell_type": "markdown",
   "id": "467ba54e",
   "metadata": {},
   "source": [
    "## Exercise 6"
   ]
  },
  {
   "cell_type": "code",
   "execution_count": 43,
   "id": "9aa863b4",
   "metadata": {},
   "outputs": [],
   "source": [
    "def f6(x, y):\n",
    "    return np.array([x - y + 1, x ** 2 + y ** 2 - 4]).reshape(-1, 1)\n",
    "\n",
    "\n",
    "def f6_jacobian(x, y):\n",
    "    f1_x = 1\n",
    "    f1_y = -1\n",
    "    f2_x = 2 * x\n",
    "    f2_y = 2 * y\n",
    "    return np.array([[f1_x,  f1_y], [f2_x, f2_y]])\n",
    "\n",
    "\n",
    "def f6_newton(x0, y0, f, Df, iterations):\n",
    "    \"\"\"Solve 2x2 non-linear system by Newton Method\n",
    "\n",
    "    Parameters\n",
    "    ----------\n",
    "    x0 : float\n",
    "        Initial guess \n",
    "    y0 : float\n",
    "        Initial guess \n",
    "    f : function\n",
    "        Vector function\n",
    "    Df : function\n",
    "        Jacobian\n",
    "    iterations : int\n",
    "        Number of iterations\n",
    "    \"\"\" \n",
    "    df = pd.DataFrame(columns=[\"x\", \"y\"]).rename_axis(\"k\")\n",
    "    df.loc[0] = [x0, y0]\n",
    "    for i in range(1, iterations+ 1):\n",
    "        xy = np.array([x0, y0]).reshape(-1, 1) - np.linalg.solve(Df(x0, y0), f(x0, y0))\n",
    "        x0 = xy[0, 0]\n",
    "        y0 = xy[1, 0]\n",
    "        df.loc[i] = [x0, y0]\n",
    "        print(f\"Iteration {i:>3} - {x0:>.10f} - y: {y0:>.10f}\")\n",
    "    return df"
   ]
  },
  {
   "cell_type": "code",
   "execution_count": 45,
   "id": "b086f3c1-8732-493c-ac5a-07c3eb40c13b",
   "metadata": {},
   "outputs": [
    {
     "name": "stdout",
     "output_type": "stream",
     "text": [
      "Iteration   1 - 2.2002040816 - y: 3.2002040816\n",
      "Iteration   2 - 1.1741516213 - y: 2.1741516213\n",
      "Iteration   3 - 0.8597285912 - y: 1.8597285912\n"
     ]
    }
   ],
   "source": [
    "x0, y0 = 0.8, 0.18\n",
    "iterations = 3\n",
    "df6 = f6_newton(x0, y0, f6, f6_jacobian, iterations)"
   ]
  },
  {
   "cell_type": "code",
   "execution_count": 46,
   "id": "c5cfb32a",
   "metadata": {},
   "outputs": [
    {
     "name": "stdout",
     "output_type": "stream",
     "text": [
      "\\begin{table}\n",
      "\\centering\n",
      "\\caption{Newton-Rhapson method approximations starting with $(x_0, y_0) = (0.8, 1.8)$}\n",
      "\\label{tab:q06}\n",
      "\\begin{tabular}{lrr}\n",
      "\\toprule\n",
      "{} &         x &         y \\\\\n",
      "k &           &           \\\\\n",
      "\\midrule\n",
      "0 &  0.800000 &  0.180000 \\\\\n",
      "1 &  2.200204 &  3.200204 \\\\\n",
      "2 &  1.174152 &  2.174152 \\\\\n",
      "3 &  0.859729 &  1.859729 \\\\\n",
      "\\bottomrule\n",
      "\\end{tabular}\n",
      "\\end{table}\n",
      "\n"
     ]
    }
   ],
   "source": [
    "print(\n",
    "    df6.to_latex(\n",
    "        label=\"tab:q06\",\n",
    "        caption=\"Newton-Rhapson method approximations starting with $(x_0, y_0) = (0.8, 1.8)$\"\n",
    "    )\n",
    ")"
   ]
  },
  {
   "cell_type": "code",
   "execution_count": null,
   "metadata": {},
   "outputs": [],
   "source": []
  }
 ],
 "metadata": {
  "interpreter": {
   "hash": "b98655f3f48ebffe498c7bd1de12272d82668f41a403333105a778c5863c4324"
  },
  "kernelspec": {
   "display_name": "Python 3.9.6 64-bit ('agoo': conda)",
   "name": "python3"
  },
  "language_info": {
   "codemirror_mode": {
    "name": "ipython",
    "version": 3
   },
   "file_extension": ".py",
   "mimetype": "text/x-python",
   "name": "python",
   "nbconvert_exporter": "python",
   "pygments_lexer": "ipython3",
   "version": "3.9.6"
  }
 },
 "nbformat": 4,
 "nbformat_minor": 5
}
