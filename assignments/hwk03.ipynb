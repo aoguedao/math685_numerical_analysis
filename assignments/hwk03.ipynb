{
 "cells": [
  {
   "cell_type": "markdown",
   "id": "94e077eb",
   "metadata": {},
   "source": [
    "[![Open In Colab](https://colab.research.google.com/assets/colab-badge.svg)](https://colab.research.google.com/github/aoguedao/math685_numerical_analysis/blob/main/assigments/hwk03.ipynb)"
   ]
  },
  {
   "cell_type": "markdown",
   "id": "bc1a249f",
   "metadata": {},
   "source": [
    "# MATH685 - Homework #03\n",
    "\n",
    "_Alonso Ogueda_"
   ]
  },
  {
   "cell_type": "markdown",
   "id": "45238080",
   "metadata": {},
   "source": [
    "## Exercise 6"
   ]
  },
  {
   "cell_type": "code",
   "execution_count": 1,
   "id": "4854ae26",
   "metadata": {},
   "outputs": [],
   "source": [
    "import numpy as np\n",
    "import matplotlib.pyplot as plt"
   ]
  },
  {
   "cell_type": "code",
   "execution_count": 15,
   "id": "ed0dd107",
   "metadata": {},
   "outputs": [],
   "source": [
    "def spline_coefficients(x_knots, y_knots, dy0, dyn):\n",
    "\n",
    "    # Tridiagonal matrix\n",
    "    h = np.ediff1d(x_knots)\n",
    "    mu = np.array([i / (i + j) for i, j in zip(h[:-1], h[1:])])\n",
    "    lam = 1 - mu\n",
    "    mu = np.append(mu, 1)\n",
    "    lam = np.append(1, lam)\n",
    "    A = 2 * np.identity(len(x_knots)) + np.diagflat(lam, k = 1) + np.diagflat(mu, k = -1)\n",
    "\n",
    "    # Function values\n",
    "    d = []\n",
    "    for i in range(1, len(x_knots) - 1):\n",
    "        f01 = (y_knots[i] - y_knots[i - 1]) / (x_knots[i] - x_knots[i - 1])\n",
    "        f12 = (y_knots[i + 1] - y_knots[i]) / (x_knots[i + 1] - x_knots[i])\n",
    "        f012 = (f12 - f01) / (x_knots[i + 1] - x_knots[i - 1])\n",
    "        d.append(f012)\n",
    "    d = 6 * np.array(d)\n",
    "    d0 = 6 / h[0] * ((y_knots[1] - y_knots[0]) / (x_knots[1] - x_knots[0]) - dy0 )\n",
    "    dn = 6 / h[-1] * ( dyn - (y_knots[-1] - y_knots[-2]) / (x_knots[-1] - x_knots[-2]) )\n",
    "    d = np.hstack([d0, d, dn])\n",
    "\n",
    "    # Coefficients\n",
    "    z = np.linalg.solve(A, d)\n",
    "    return z"
   ]
  },
  {
   "cell_type": "code",
   "execution_count": 16,
   "id": "0be4eb2a",
   "metadata": {},
   "outputs": [],
   "source": [
    "def spline_interval(x, x1, x2, y1, y2, z1, z2, h):\n",
    "    x = np.asarray(x)\n",
    "    s = (\n",
    "        np.power((x2 - x), 3) * z1 / (6 * h)\n",
    "        + np.power((x - x1), 3) * z2 / (6 * h)\n",
    "        + (y1 - (z1 * h ** 2) / 6) * (x2 - x) / h\n",
    "        + (y2 - (z2 * h ** 2) / 6) * (x - x1) / h\n",
    "    )\n",
    "    return s"
   ]
  },
  {
   "cell_type": "code",
   "execution_count": 17,
   "id": "9157227c",
   "metadata": {},
   "outputs": [],
   "source": [
    "def spline_values(x_knots, y_knots, dy0, dyn):\n",
    "\n",
    "    spline_coefs = spline_coefficients(x_knots, y_knots, dy0, dyn)\n",
    "\n",
    "    x_array = []\n",
    "    values = []\n",
    "    h = np.ediff1d(x_knots)\n",
    "    for i in range(1, len(x_knots)):\n",
    "        x_array_i = np.linspace(x_knots[i - 1], x_knots[i], 100)\n",
    "        values_i = spline_interval(\n",
    "            x=x_array_i,\n",
    "            x1=x_knots[i - 1],\n",
    "            x2=x_knots[i],\n",
    "            y1=y_knots[i - 1],\n",
    "            y2=y_knots[i],\n",
    "            z1=spline_coefs[i - 1],\n",
    "            z2=spline_coefs[i],\n",
    "            h=h[i-1]\n",
    "        )\n",
    "        x_array.append(x_array_i)\n",
    "        values.append(values_i)\n",
    "    x_array = np.hstack(x_array)\n",
    "    values = np.hstack(values)\n",
    "    return spline_coefs, x_array, values"
   ]
  },
  {
   "cell_type": "code",
   "execution_count": 20,
   "id": "335ff6da",
   "metadata": {},
   "outputs": [],
   "source": [
    "xa = np.array([1, 2, 5, 6, 7, 8, 10, 13, 17])\n",
    "ya = np.array([3.0, 3.7, 3.9, 4.2, 5.7, 6.6, 7.1, 6.7, 4.5])\n",
    "dya0 = 1.0\n",
    "dyan = -0.667"
   ]
  },
  {
   "cell_type": "code",
   "execution_count": 21,
   "id": "335ff6da",
   "metadata": {},
   "outputs": [],
   "source": [
    "xb = np.array([17, 20, 23, 24, 25, 27, 27.7])\n",
    "yb = np.array([4.5, 7.0, 6.1, 5.6, 5.8, 5.2, 4.1])\n",
    "dyb0 = 3.0\n",
    "dybn = -4.0"
   ]
  },
  {
   "cell_type": "code",
   "execution_count": 22,
   "id": "335ff6da",
   "metadata": {},
   "outputs": [],
   "source": [
    "xc = np.array([27.7, 28, 29, 30])\n",
    "yc = np.array([4.1, 4.3, 4.1, 3.0])\n",
    "dyc0 = 0.33\n",
    "dycn = -1.5"
   ]
  },
  {
   "cell_type": "code",
   "execution_count": 23,
   "id": "b313c0f5",
   "metadata": {},
   "outputs": [],
   "source": [
    "coefs_a, x_array_a, values_a = spline_values(xa, ya, dya0, dyan)\n",
    "coefs_b, x_array_b, values_b = spline_values(xb, yb, dyb0, dybn)\n",
    "coefs_c, x_array_c, values_c = spline_values(xc, yc, dyc0, dycn)"
   ]
  },
  {
   "cell_type": "code",
   "execution_count": 25,
   "id": "f98f0976",
   "metadata": {},
   "outputs": [
    {
     "data": {
      "image/png": "[encoded data removed]",
      "text/plain": [
       "<Figure size 720x432 with 1 Axes>"
      ]
     },
     "metadata": {
      "needs_background": "light"
     },
     "output_type": "display_data"
    }
   ],
   "source": [
    "fig, ax = plt.subplots(figsize=(10, 6))\n",
    "ax.plot(x_array_a, values_a, color=\"red\")\n",
    "ax.plot(x_array_b, values_b, color=\"green\")\n",
    "ax.plot(x_array_c, values_c, color=\"blue\")\n",
    "fig.show()"
   ]
  },
  {
   "cell_type": "markdown",
   "id": "36c0b031",
   "metadata": {},
   "source": [
    "## Question 7"
   ]
  },
  {
   "cell_type": "code",
   "execution_count": 45,
   "id": "16dcf9ef",
   "metadata": {},
   "outputs": [],
   "source": [
    "import pandas as pd"
   ]
  },
  {
   "cell_type": "code",
   "execution_count": 52,
   "id": "fb46b085",
   "metadata": {},
   "outputs": [
    {
     "data": {
      "text/html": [
       "<div>\n",
       "<style scoped>\n",
       "    .dataframe tbody tr th:only-of-type {\n",
       "        vertical-align: middle;\n",
       "    }\n",
       "\n",
       "    .dataframe tbody tr th {\n",
       "        vertical-align: top;\n",
       "    }\n",
       "\n",
       "    .dataframe thead th {\n",
       "        text-align: right;\n",
       "    }\n",
       "</style>\n",
       "<table border=\"1\" class=\"dataframe\">\n",
       "  <thead>\n",
       "    <tr style=\"text-align: right;\">\n",
       "      <th></th>\n",
       "      <th>-1.0</th>\n",
       "      <th>-0.6</th>\n",
       "      <th>-0.2</th>\n",
       "      <th>0.2</th>\n",
       "      <th>0.6</th>\n",
       "      <th>1.0</th>\n",
       "    </tr>\n",
       "  </thead>\n",
       "  <tbody>\n",
       "    <tr>\n",
       "      <th>-1.0</th>\n",
       "      <td>-0.1353</td>\n",
       "      <td>-0.1540</td>\n",
       "      <td>-0.0707</td>\n",
       "      <td>0.0707</td>\n",
       "      <td>0.1540</td>\n",
       "      <td>0.1353</td>\n",
       "    </tr>\n",
       "    <tr>\n",
       "      <th>-0.6</th>\n",
       "      <td>-0.2567</td>\n",
       "      <td>-0.2921</td>\n",
       "      <td>-0.1341</td>\n",
       "      <td>0.1341</td>\n",
       "      <td>0.2921</td>\n",
       "      <td>0.2567</td>\n",
       "    </tr>\n",
       "    <tr>\n",
       "      <th>-0.2</th>\n",
       "      <td>-0.3535</td>\n",
       "      <td>-0.4022</td>\n",
       "      <td>-0.1846</td>\n",
       "      <td>0.1846</td>\n",
       "      <td>0.4022</td>\n",
       "      <td>0.3535</td>\n",
       "    </tr>\n",
       "    <tr>\n",
       "      <th>0.2</th>\n",
       "      <td>-0.3535</td>\n",
       "      <td>-0.4022</td>\n",
       "      <td>-0.1846</td>\n",
       "      <td>0.1846</td>\n",
       "      <td>0.4022</td>\n",
       "      <td>0.3535</td>\n",
       "    </tr>\n",
       "    <tr>\n",
       "      <th>0.6</th>\n",
       "      <td>-0.2567</td>\n",
       "      <td>-0.2921</td>\n",
       "      <td>-0.1341</td>\n",
       "      <td>0.1341</td>\n",
       "      <td>0.2921</td>\n",
       "      <td>0.2567</td>\n",
       "    </tr>\n",
       "    <tr>\n",
       "      <th>1.0</th>\n",
       "      <td>-0.1353</td>\n",
       "      <td>-0.1540</td>\n",
       "      <td>-0.0707</td>\n",
       "      <td>0.0707</td>\n",
       "      <td>0.1540</td>\n",
       "      <td>0.1353</td>\n",
       "    </tr>\n",
       "  </tbody>\n",
       "</table>\n",
       "</div>"
      ],
      "text/plain": [
       "        -1.0    -0.6    -0.2     0.2     0.6     1.0\n",
       "-1.0 -0.1353 -0.1540 -0.0707  0.0707  0.1540  0.1353\n",
       "-0.6 -0.2567 -0.2921 -0.1341  0.1341  0.2921  0.2567\n",
       "-0.2 -0.3535 -0.4022 -0.1846  0.1846  0.4022  0.3535\n",
       " 0.2 -0.3535 -0.4022 -0.1846  0.1846  0.4022  0.3535\n",
       " 0.6 -0.2567 -0.2921 -0.1341  0.1341  0.2921  0.2567\n",
       " 1.0 -0.1353 -0.1540 -0.0707  0.0707  0.1540  0.1353"
      ]
     },
     "execution_count": 52,
     "metadata": {},
     "output_type": "execute_result"
    }
   ],
   "source": [
    "x_knots = np.array([-1.0, -0.6, -0.2, 0.2, 0.6, 1.0])\n",
    "y_knots = np.array([-1.0, -0.6, -0.2, 0.2, 0.6, 1.0])\n",
    "data = pd.DataFrame(\n",
    "    [\n",
    "        [-0.1353, -0.1540, -0.0707, 0.0707, 0.1540, 0.1353],\n",
    "        [-0.2567, -0.2921, -0.1341, 0.1341, 0.2921, 0.2567],\n",
    "        [-0.3535, -0.4022, -0.1846, 0.1846, 0.4022, 0.3535],\n",
    "        [-0.3535, -0.4022, -0.1846, 0.1846, 0.4022, 0.3535],\n",
    "        [-0.2567, -0.2921, -0.1341, 0.1341, 0.2921, 0.2567],\n",
    "        [-0.1353, -0.1540, -0.0707, 0.0707, 0.1540, 0.1353]\n",
    "    ],\n",
    "    index=y_knots,\n",
    "    columns=x_knots\n",
    ")\n",
    "data"
   ]
  },
  {
   "cell_type": "code",
   "execution_count": 53,
   "id": "f77dc788",
   "metadata": {},
   "outputs": [],
   "source": [
    "x = 0.1\n",
    "y = -0.7"
   ]
  },
  {
   "cell_type": "code",
   "execution_count": 54,
   "id": "8af3661f",
   "metadata": {},
   "outputs": [],
   "source": [
    "x1 = x_knots[x >= x_knots].max()\n",
    "x2 = x_knots[x <= x_knots].min()\n",
    "y1 = y_knots[y >= y_knots].max()\n",
    "y2 = y_knots[y <= y_knots].min()"
   ]
  },
  {
   "cell_type": "code",
   "execution_count": 59,
   "id": "920a8cdc",
   "metadata": {},
   "outputs": [
    {
     "name": "stdout",
     "output_type": "stream",
     "text": [
      "-0.2 0.2\n",
      "-1.0 -0.6\n"
     ]
    }
   ],
   "source": [
    "print(x1, x2)\n",
    "print(y1, y2)"
   ]
  },
  {
   "cell_type": "code",
   "execution_count": 65,
   "id": "5b53c350",
   "metadata": {},
   "outputs": [],
   "source": [
    "q11 = data.loc[y1, x1]\n",
    "q12 = data.loc[y2, x1]\n",
    "q21 = data.loc[y1, x2]\n",
    "q22 = data.loc[y2, x2]\n",
    "Q = np.array([[q11, q12], [q21, q22]])"
   ]
  },
  {
   "cell_type": "code",
   "execution_count": 69,
   "id": "21bbe4ca",
   "metadata": {},
   "outputs": [
    {
     "data": {
      "text/plain": [
       "0.05912500000000002"
      ]
     },
     "execution_count": 69,
     "metadata": {},
     "output_type": "execute_result"
    }
   ],
   "source": [
    "fxy = (\n",
    "    np.array([x2 - x, x - x1], ndmin=2)\n",
    "    @\n",
    "    Q\n",
    "    @ np.array([y2 - y, y - y1], ndmin=2).T\n",
    "    / (x2 - x1)\n",
    "    / (y2 - y1)\n",
    ").item()\n",
    "fxy"
   ]
  },
  {
   "cell_type": "code",
   "execution_count": null,
   "id": "4ebc5280",
   "metadata": {},
   "outputs": [],
   "source": []
  }
 ],
 "metadata": {
  "interpreter": {
   "hash": "b98655f3f48ebffe498c7bd1de12272d82668f41a403333105a778c5863c4324"
  },
  "kernelspec": {
   "display_name": "Python 3.9.6 64-bit ('agoo': conda)",
   "name": "python3"
  },
  "language_info": {
   "codemirror_mode": {
    "name": "ipython",
    "version": 3
   },
   "file_extension": ".py",
   "mimetype": "text/x-python",
   "name": "python",
   "nbconvert_exporter": "python",
   "pygments_lexer": "ipython3",
   "version": "3.9.6"
  }
 },
 "nbformat": 4,
 "nbformat_minor": 5
}
