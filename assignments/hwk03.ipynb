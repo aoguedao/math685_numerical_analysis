{
 "cells": [
  {
   "cell_type": "markdown",
   "id": "94e077eb",
   "metadata": {},
   "source": [
    "[![Open In Colab](https://colab.research.google.com/assets/colab-badge.svg)](https://colab.research.google.com/github/aoguedao/math685_numerical_analysis/blob/main/assigments/hwk03.ipynb)"
   ]
  },
  {
   "cell_type": "markdown",
   "id": "bc1a249f",
   "metadata": {},
   "source": [
    "# MATH685 - Homework #03\n",
    "\n",
    "_Alonso Ogueda_"
   ]
  },
  {
   "cell_type": "markdown",
   "id": "45238080",
   "metadata": {},
   "source": [
    "## Exercise 6"
   ]
  },
  {
   "cell_type": "code",
   "execution_count": 39,
   "id": "4854ae26",
   "metadata": {},
   "outputs": [],
   "source": [
    "import numpy as np\n",
    "import matplotlib.pyplot as plt"
   ]
  },
  {
   "cell_type": "code",
   "execution_count": 40,
   "id": "335ff6da",
   "metadata": {},
   "outputs": [],
   "source": [
    "# x = np.array([0, 1, 2, 3])\n",
    "# y = np.array([0, 0.5, 2, 1.5])\n",
    "# dy_0 = 0.2\n",
    "# dy_n = -1"
   ]
  },
  {
   "cell_type": "code",
   "execution_count": 41,
   "id": "335ff6da",
   "metadata": {},
   "outputs": [],
   "source": [
    "x = np.array([1, 2, 5, 6, 7, 8, 10, 13, 17])\n",
    "y = np.array([3.0, 3.7, 3.9, 4.2, 5.7, 6.6, 7.1, 6.7, 4.5])\n",
    "dy_0 = 1\n",
    "dy_n = -0.667"
   ]
  },
  {
   "cell_type": "code",
   "execution_count": 42,
   "id": "ed0dd107",
   "metadata": {},
   "outputs": [],
   "source": [
    "h = np.ediff1d(x)\n",
    "mu = []\n",
    "for i in range(len(h) - 1):\n",
    "    mu_i = h[i] / (h[i] + h[i + 1])\n",
    "    mu.append(mu_i)\n",
    "mu = np.array(mu)\n",
    "lam = 1 - mu\n"
   ]
  },
  {
   "cell_type": "code",
   "execution_count": 50,
   "id": "ad125b93",
   "metadata": {},
   "outputs": [],
   "source": [
    "d = []\n",
    "for i in range(1, len(x) - 1):\n",
    "    f01 = (y[i] - y[i - 1]) / (x[i] - x[i - 1])\n",
    "    f12 = (y[i + 1] - y[i]) / (x[i + 1] - x[i])\n",
    "    f012 = (f12 - f01) / (x[i + 1] - x[i - 1])\n",
    "    d.append(f012)\n",
    "\n",
    "d = np.array(d) * 6"
   ]
  },
  {
   "cell_type": "code",
   "execution_count": 44,
   "id": "6b79e472",
   "metadata": {},
   "outputs": [],
   "source": [
    "d0 = 6 / h[0] * ((y[1] - y[0]) / (x[1] - x[0]) - dy_0 )\n",
    "dn = 6 / h[-1] * ( dy_n - (y[-1] - y[-2]) / (x[-1] - x[-2]) )\n"
   ]
  },
  {
   "cell_type": "code",
   "execution_count": 45,
   "id": "e89f5ecc",
   "metadata": {},
   "outputs": [],
   "source": [
    "d = np.hstack([d0, d, dn])\n",
    "mu = np.hstack([mu, 1])\n",
    "lam = np.hstack([1, lam])"
   ]
  },
  {
   "cell_type": "code",
   "execution_count": 46,
   "id": "0a7761c7",
   "metadata": {},
   "outputs": [],
   "source": [
    "A = 2 * np.identity(len(d)) + np.diagflat(lam, k = 1) + np.diagflat(mu, k = -1)\n",
    "z = np.linalg.solve(A, d)"
   ]
  },
  {
   "cell_type": "code",
   "execution_count": 47,
   "id": "864949f4",
   "metadata": {},
   "outputs": [],
   "source": [
    "def spline_function(x, x1, x2, y1, y2, z1, z2, h):\n",
    "    x = np.asarray(x)\n",
    "    s = (\n",
    "        np.power((x2 - x), 3) * z1 / (6 * h)\n",
    "        + np.power((x - x1), 3) * z2 / (6 * h)\n",
    "        + (y1 - (z1 * h ** 2) / 6) * (x2 - x) / h\n",
    "        + (y2 - (z2 * h ** 2) / 6) * (x - x1) / h\n",
    "    )\n",
    "    return s"
   ]
  },
  {
   "cell_type": "code",
   "execution_count": 48,
   "id": "da7a0081",
   "metadata": {},
   "outputs": [],
   "source": [
    "x_array = []\n",
    "s = []\n",
    "for i in range(1, len(x)):\n",
    "    x_array_i = np.linspace(x[i - 1], x[i], 100)\n",
    "    s_i = spline_function(\n",
    "        x=x_array_i,\n",
    "        x1=x[i - 1],\n",
    "        x2=x[i],\n",
    "        y1=y[i - 1],\n",
    "        y2=y[i],\n",
    "        z1=z[i - 1],\n",
    "        z2=z[i],\n",
    "        h=h[i-1]\n",
    "    )\n",
    "    x_array.append(x_array_i)\n",
    "    s.append(s_i)"
   ]
  },
  {
   "cell_type": "code",
   "execution_count": null,
   "id": "15dc9bec",
   "metadata": {},
   "outputs": [],
   "source": []
  },
  {
   "cell_type": "code",
   "execution_count": 49,
   "id": "252c10ee",
   "metadata": {},
   "outputs": [
    {
     "data": {
      "image/png": "[encoded data removed]",
      "text/plain": [
       "<Figure size 720x432 with 1 Axes>"
      ]
     },
     "metadata": {
      "needs_background": "light"
     },
     "output_type": "display_data"
    }
   ],
   "source": [
    "## Ploting\n",
    "fig, ax = plt.subplots(figsize=(10, 6))\n",
    "ax.plot(np.hstack(x_array), np.hstack(s))\n",
    "\n",
    "#     axs[i].set_ylabel(\"y\")\n",
    "#     axs[i].grid()\n",
    "#     axs[i].set_title(f\"{n} terms\")\n",
    "# axs[-1].set_xlabel(\"x\")\n",
    "# fig.suptitle(r\"Taylor approximation of $I(x)$ about $x_0 = 0$\") \n",
    "# fig.tight_layout()\n",
    "# plt.savefig(images_path / \"exercise07.png\", dpi=300)\n",
    "fig.show()"
   ]
  },
  {
   "cell_type": "code",
   "execution_count": null,
   "id": "3498971b",
   "metadata": {},
   "outputs": [],
   "source": []
  }
 ],
 "metadata": {
  "interpreter": {
   "hash": "b98655f3f48ebffe498c7bd1de12272d82668f41a403333105a778c5863c4324"
  },
  "kernelspec": {
   "display_name": "Python 3.9.6 64-bit ('agoo': conda)",
   "name": "python3"
  },
  "language_info": {
   "codemirror_mode": {
    "name": "ipython",
    "version": 3
   },
   "file_extension": ".py",
   "mimetype": "text/x-python",
   "name": "python",
   "nbconvert_exporter": "python",
   "pygments_lexer": "ipython3",
   "version": "3.9.6"
  }
 },
 "nbformat": 4,
 "nbformat_minor": 5
}
