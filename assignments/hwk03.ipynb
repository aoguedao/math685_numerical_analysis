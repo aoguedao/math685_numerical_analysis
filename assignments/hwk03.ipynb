{
 "cells": [
  {
   "cell_type": "markdown",
   "id": "94e077eb",
   "metadata": {},
   "source": [
    "[![Open In Colab](https://colab.research.google.com/assets/colab-badge.svg)](https://colab.research.google.com/github/aoguedao/math685_numerical_analysis/blob/main/assigments/hwk03.ipynb)"
   ]
  },
  {
   "cell_type": "markdown",
   "id": "bc1a249f",
   "metadata": {},
   "source": [
    "# MATH685 - Homework #03\n",
    "\n",
    "_Alonso Ogueda_"
   ]
  },
  {
   "cell_type": "markdown",
   "id": "45238080",
   "metadata": {},
   "source": [
    "## Exercise 6"
   ]
  },
  {
   "cell_type": "code",
   "execution_count": 1,
   "id": "4854ae26",
   "metadata": {},
   "outputs": [],
   "source": [
    "import numpy as np\n",
    "import matplotlib.pyplot as plt"
   ]
  },
  {
   "cell_type": "code",
   "execution_count": 54,
   "id": "335ff6da",
   "metadata": {},
   "outputs": [],
   "source": [
    "x = np.array([0, 1, 2, 3])\n",
    "y = np.array([0, 0.5, 2, 1.5])\n",
    "dy_0 = 0.2\n",
    "dy_n = -1"
   ]
  },
  {
   "cell_type": "code",
   "execution_count": 55,
   "id": "ed0dd107",
   "metadata": {},
   "outputs": [],
   "source": [
    "h = np.ediff1d(x)\n",
    "mu = []\n",
    "for i in range(len(h) - 1):\n",
    "    mu_i = h[i] / (h[i] + h[i + 1])\n",
    "    mu.append(mu_i)\n",
    "mu = np.array(mu)\n",
    "lam = 1 - mu\n"
   ]
  },
  {
   "cell_type": "code",
   "execution_count": 56,
   "id": "ad125b93",
   "metadata": {},
   "outputs": [
    {
     "name": "stdout",
     "output_type": "stream",
     "text": [
      "1\n",
      "2\n"
     ]
    }
   ],
   "source": [
    "d = []\n",
    "for i in range(1, len(x) - 1):\n",
    "    print(i)\n",
    "    f01 = (y[i] - y[i - 1]) / (x[i] - x[i - 1])\n",
    "    f12 = (y[i + 1] - y[i]) / (x[i + 1] - x[i])\n",
    "    f012 = (f12 - f01) / (x[i + 1] - x[i - 1])\n",
    "    d.append(f012)\n",
    "\n",
    "d = np.array(d) * 6"
   ]
  },
  {
   "cell_type": "code",
   "execution_count": 57,
   "id": "6b79e472",
   "metadata": {},
   "outputs": [],
   "source": [
    "d0 = 6 / h[0] * ((y[1] - y[0]) / (x[1] - x[0]) - dy_0 )\n",
    "dn = 6 / h[-1] * ( dy_n - (y[-1] - y[-2]) / (x[-1] - x[-2]) )\n"
   ]
  },
  {
   "cell_type": "code",
   "execution_count": 58,
   "id": "e89f5ecc",
   "metadata": {},
   "outputs": [],
   "source": [
    "d = np.hstack([d0, d, dn])\n",
    "mu = np.hstack([mu, 1])\n",
    "lam = np.hstack([1, lam])"
   ]
  },
  {
   "cell_type": "code",
   "execution_count": 60,
   "id": "0a7761c7",
   "metadata": {},
   "outputs": [],
   "source": [
    "A = 2 * np.identity(len(d)) + np.diagflat(lam, k = 1) + np.diagflat(mu, k = -1)"
   ]
  },
  {
   "cell_type": "code",
   "execution_count": 61,
   "id": "b3c59313",
   "metadata": {},
   "outputs": [
    {
     "data": {
      "text/plain": [
       "array([[2. , 1. , 0. , 0. ],\n",
       "       [0.5, 2. , 0.5, 0. ],\n",
       "       [0. , 0.5, 2. , 0.5],\n",
       "       [0. , 0. , 1. , 2. ]])"
      ]
     },
     "execution_count": 61,
     "metadata": {},
     "output_type": "execute_result"
    }
   ],
   "source": [
    "A"
   ]
  },
  {
   "cell_type": "code",
   "execution_count": 62,
   "id": "864949f4",
   "metadata": {},
   "outputs": [
    {
     "data": {
      "text/plain": [
       "array([-0.36,  2.52, -3.72,  0.36])"
      ]
     },
     "execution_count": 62,
     "metadata": {},
     "output_type": "execute_result"
    }
   ],
   "source": [
    "np.linalg.solve(A, d)"
   ]
  },
  {
   "cell_type": "code",
   "execution_count": null,
   "id": "a7191466",
   "metadata": {},
   "outputs": [],
   "source": []
  }
 ],
 "metadata": {
  "interpreter": {
   "hash": "b98655f3f48ebffe498c7bd1de12272d82668f41a403333105a778c5863c4324"
  },
  "kernelspec": {
   "display_name": "Python 3.9.6 64-bit ('agoo': conda)",
   "name": "python3"
  },
  "language_info": {
   "codemirror_mode": {
    "name": "ipython",
    "version": 3
   },
   "file_extension": ".py",
   "mimetype": "text/x-python",
   "name": "python",
   "nbconvert_exporter": "python",
   "pygments_lexer": "ipython3",
   "version": "3.9.6"
  }
 },
 "nbformat": 4,
 "nbformat_minor": 5
}
